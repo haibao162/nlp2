{
 "cells": [
  {
   "cell_type": "code",
   "execution_count": 2,
   "id": "3abb6ebc-7ad8-4836-9eb1-998c3df44ee3",
   "metadata": {},
   "outputs": [
    {
     "name": "stdout",
     "output_type": "stream",
     "text": [
      "tensor([0, 2, 4, 6, 8])\n"
     ]
    }
   ],
   "source": [
    "import torch\n",
    "\n",
    "a = torch.arange(0, 10,2)\n",
    "print(a)"
   ]
  },
  {
   "cell_type": "code",
   "execution_count": 7,
   "id": "d3468c87",
   "metadata": {},
   "outputs": [
    {
     "name": "stdout",
     "output_type": "stream",
     "text": [
      "<re.Match object; span=(3, 5), match='长袖'>\n",
      "长袖\n",
      "<re.Match object; span=(0, 1), match='请'>\n",
      "['袖', '袖']\n"
     ]
    }
   ],
   "source": [
    "import re\n",
    "a = '请选择长袖、短袖、外套'\n",
    "b = '长袖'\n",
    "x = re.search('长袖|短袖|半截袖', a)\n",
    "print(x)\n",
    "if x:\n",
    "    print(x.group()) # 长袖\n",
    "\n",
    "x = re.match('请', a)\n",
    "print(x)\n",
    "\n",
    "x = re.findall('袖', a)\n",
    "print(x)"
   ]
  }
 ],
 "metadata": {
  "kernelspec": {
   "display_name": "base",
   "language": "python",
   "name": "python3"
  },
  "language_info": {
   "codemirror_mode": {
    "name": "ipython",
    "version": 3
   },
   "file_extension": ".py",
   "mimetype": "text/x-python",
   "name": "python",
   "nbconvert_exporter": "python",
   "pygments_lexer": "ipython3",
   "version": "3.12.2"
  }
 },
 "nbformat": 4,
 "nbformat_minor": 5
}
